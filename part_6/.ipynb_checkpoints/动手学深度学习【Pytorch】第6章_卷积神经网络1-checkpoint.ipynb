{
 "cells": [
  {
   "cell_type": "markdown",
   "id": "c4b6d941",
   "metadata": {},
   "source": [
    "# 从全连接到卷积"
   ]
  },
  {
   "cell_type": "markdown",
   "id": "39156922",
   "metadata": {},
   "source": [
    "全连接层主要存在以下问题：\n",
    "1. 在使用全连接层处理图像数据时，需要先将图像展平为1维数组，然后再对进行相关的计算，这样做忽略了每个图像的空间结构信息。\n",
    "2. 全连接层需要将上下两层的神经元全部相连接，这样会导致参数量非常多。举个例子：图像大小是$100\\times100$的图像，再输入隐藏层神经元数量为50的网络中时，产生的权重参数量为$100\\times100\\times50=500\\enspace000$"
   ]
  },
  {
   "cell_type": "markdown",
   "id": "a302391c",
   "metadata": {},
   "source": [
    "卷积操作主要有以下两个特性：\n",
    "1. 平移不变性：不够检测对象出现再图像中的哪个位置，神经网络的前面几层应该对相同的图像区域具有相似的反应，即为“平移不变性”。\n",
    "2. 局部性：神经网络的前面几层应该只探索输入图像中的局部区域，而不过度在意图像中相隔较远的区域的关系，这就是“局部性”原则。最终，可以聚合这些局部特征，以在整个图像级别进行预测。"
   ]
  },
  {
   "cell_type": "markdown",
   "id": "c1e648b6",
   "metadata": {},
   "source": [
    "# 图像卷积"
   ]
  },
  {
   "cell_type": "markdown",
   "id": "7d6e2d5e",
   "metadata": {},
   "source": [
    "## 互相关运算"
   ]
  },
  {
   "cell_type": "markdown",
   "id": "d0debad4",
   "metadata": {},
   "source": [
    "严格来说，卷积层是个错误的叫法，因为它所表达的运算其实是互相关运算，而不是卷积运算。"
   ]
  },
  {
   "attachments": {
    "image.png": {
     "image/png": "[encoded data removed]"
    }
   },
   "cell_type": "markdown",
   "id": "f25ec8d2",
   "metadata": {},
   "source": [
    "![image.png](attachment:image.png)"
   ]
  },
  {
   "cell_type": "markdown",
   "id": "2309ac7f",
   "metadata": {},
   "source": [
    "输出特征图的大小为$(n_h-k_h+1)\\times(n_w-k_w+1)$<br>\n",
    "其中：\n",
    "- $n_h$为原始图像高度\n",
    "- $n_w$为原始图像宽度\n",
    "- $k_h$为卷积核高度\n",
    "- $k_w$为卷积核宽度"
   ]
  },
  {
   "cell_type": "code",
   "execution_count": 1,
   "id": "a08a4025",
   "metadata": {
    "ExecuteTime": {
     "end_time": "2022-08-10T10:05:30.253861Z",
     "start_time": "2022-08-10T10:05:28.372800Z"
    }
   },
   "outputs": [],
   "source": [
    "import torch\n",
    "from torch import nn\n",
    "from d2l import torch as d2l"
   ]
  },
  {
   "cell_type": "code",
   "execution_count": 2,
   "id": "4f2a8899",
   "metadata": {
    "ExecuteTime": {
     "end_time": "2022-08-10T11:19:32.378904Z",
     "start_time": "2022-08-10T11:19:32.371908Z"
    }
   },
   "outputs": [],
   "source": [
    "def corr2d(X, K):  #@save\n",
    "    \"\"\"计算二位互相关运算\"\"\"\n",
    "    Y = torch.zeros((X.shape[0]-K.shape[0]+1, X.shape[1]-K.shape[1]+1))\n",
    "    for i in range(Y.shape[0]):\n",
    "        for j in range(Y.shape[1]):\n",
    "            Y[i, j] = (X[i:i+K.shape[0], j:j+K.shape[1]] * K).sum()\n",
    "    return Y"
   ]
  },
  {
   "cell_type": "code",
   "execution_count": 3,
   "id": "78a96e7a",
   "metadata": {
    "ExecuteTime": {
     "end_time": "2022-08-10T11:19:41.829623Z",
     "start_time": "2022-08-10T11:19:41.762217Z"
    }
   },
   "outputs": [
    {
     "data": {
      "text/plain": [
       "tensor([[19., 25.],\n",
       "        [37., 43.]])"
      ]
     },
     "execution_count": 3,
     "metadata": {},
     "output_type": "execute_result"
    }
   ],
   "source": [
    "X = torch.tensor([[0.0, 1.0, 2.0], [3.0, 4.0, 5.0], [6.0, 7.0, 8.0]])\n",
    "K = torch.tensor([[0.0, 1.0], [2.0, 3.0]])\n",
    "corr2d(X, K)"
   ]
  },
  {
   "cell_type": "markdown",
   "id": "a663c611",
   "metadata": {},
   "source": [
    "## 卷积层"
   ]
  },
  {
   "cell_type": "markdown",
   "id": "2fddbb66",
   "metadata": {},
   "source": [
    "基于上面定义的corr2d函数实现二维卷积层。在`__init__`构造函数中，将weight和bias声明为两个模型参数，前向传播函数调用corr2d函数并添加偏置。"
   ]
  },
  {
   "cell_type": "code",
   "execution_count": 18,
   "id": "d6649e71",
   "metadata": {
    "ExecuteTime": {
     "end_time": "2022-08-10T11:25:57.113303Z",
     "start_time": "2022-08-10T11:25:57.098054Z"
    }
   },
   "outputs": [],
   "source": [
    "class Conv2D(nn.Module):\n",
    "    def __init__(self, kernel_size):\n",
    "        super().__init__()\n",
    "        self.weight = nn.Parameter(torch.rand(kernel_size))\n",
    "        self.bias = nn.Parameter(torch.zeros(1,))\n",
    "        \n",
    "    def forward(self, x):\n",
    "        return corr2d(x, self.weight) + self.bias"
   ]
  },
  {
   "cell_type": "markdown",
   "id": "205bcdd2",
   "metadata": {},
   "source": [
    "使用$2\\times2$的卷积核对$X$进行卷积"
   ]
  },
  {
   "cell_type": "code",
   "execution_count": 19,
   "id": "fea4ead9",
   "metadata": {
    "ExecuteTime": {
     "end_time": "2022-08-10T11:25:57.298627Z",
     "start_time": "2022-08-10T11:25:57.287663Z"
    }
   },
   "outputs": [
    {
     "data": {
      "text/plain": [
       "tensor([[2.8595, 4.4158],\n",
       "        [7.5284, 9.0847]], grad_fn=<AddBackward0>)"
      ]
     },
     "execution_count": 19,
     "metadata": {},
     "output_type": "execute_result"
    }
   ],
   "source": [
    "Conv2D((2, 2))(X)"
   ]
  },
  {
   "cell_type": "markdown",
   "id": "27a96396",
   "metadata": {},
   "source": [
    "## 图像中的边缘检测"
   ]
  },
  {
   "cell_type": "markdown",
   "id": "46c87fdc",
   "metadata": {},
   "source": [
    "首先我们构造一个6$\\times$8像素的黑白图像。中间四列为黑色(0)，其余像素为白色(1)。"
   ]
  },
  {
   "cell_type": "code",
   "execution_count": 20,
   "id": "6ecb72cc",
   "metadata": {
    "ExecuteTime": {
     "end_time": "2022-08-10T11:27:56.899931Z",
     "start_time": "2022-08-10T11:27:56.875179Z"
    }
   },
   "outputs": [
    {
     "data": {
      "text/plain": [
       "tensor([[1., 1., 0., 0., 0., 0., 1., 1.],\n",
       "        [1., 1., 0., 0., 0., 0., 1., 1.],\n",
       "        [1., 1., 0., 0., 0., 0., 1., 1.],\n",
       "        [1., 1., 0., 0., 0., 0., 1., 1.],\n",
       "        [1., 1., 0., 0., 0., 0., 1., 1.],\n",
       "        [1., 1., 0., 0., 0., 0., 1., 1.]])"
      ]
     },
     "execution_count": 20,
     "metadata": {},
     "output_type": "execute_result"
    }
   ],
   "source": [
    "X = torch.ones((6, 8))\n",
    "X[:, 2:6] = 0\n",
    "X"
   ]
  },
  {
   "cell_type": "markdown",
   "id": "4339b053",
   "metadata": {},
   "source": [
    "接下来我们构造一个高度为1，宽度为2的卷积核"
   ]
  },
  {
   "cell_type": "code",
   "execution_count": 21,
   "id": "9e21bcff",
   "metadata": {
    "ExecuteTime": {
     "end_time": "2022-08-10T11:28:39.992660Z",
     "start_time": "2022-08-10T11:28:39.970435Z"
    }
   },
   "outputs": [],
   "source": [
    "K = torch.tensor([[1.0, -1.0]])"
   ]
  },
  {
   "cell_type": "code",
   "execution_count": 23,
   "id": "7065b671",
   "metadata": {
    "ExecuteTime": {
     "end_time": "2022-08-10T11:28:51.670313Z",
     "start_time": "2022-08-10T11:28:51.658967Z"
    }
   },
   "outputs": [
    {
     "data": {
      "text/plain": [
       "tensor([[ 0.,  1.,  0.,  0.,  0., -1.,  0.],\n",
       "        [ 0.,  1.,  0.,  0.,  0., -1.,  0.],\n",
       "        [ 0.,  1.,  0.,  0.,  0., -1.,  0.],\n",
       "        [ 0.,  1.,  0.,  0.,  0., -1.,  0.],\n",
       "        [ 0.,  1.,  0.,  0.,  0., -1.,  0.],\n",
       "        [ 0.,  1.,  0.,  0.,  0., -1.,  0.]])"
      ]
     },
     "execution_count": 23,
     "metadata": {},
     "output_type": "execute_result"
    }
   ],
   "source": [
    "Y = corr2d(X, K)\n",
    "Y"
   ]
  },
  {
   "cell_type": "markdown",
   "id": "ffdd761a",
   "metadata": {},
   "source": [
    "其中1代表从白色到黑色的边缘，-1代表从黑色到白色的边缘"
   ]
  },
  {
   "cell_type": "markdown",
   "id": "c3bae96a",
   "metadata": {},
   "source": [
    "接下来将图像进行转置，再次使用上方的卷积核K进行边缘检测"
   ]
  },
  {
   "cell_type": "code",
   "execution_count": 25,
   "id": "a8460763",
   "metadata": {
    "ExecuteTime": {
     "end_time": "2022-08-10T11:30:19.929319Z",
     "start_time": "2022-08-10T11:30:19.907153Z"
    }
   },
   "outputs": [
    {
     "data": {
      "text/plain": [
       "tensor([[0., 0., 0., 0., 0.],\n",
       "        [0., 0., 0., 0., 0.],\n",
       "        [0., 0., 0., 0., 0.],\n",
       "        [0., 0., 0., 0., 0.],\n",
       "        [0., 0., 0., 0., 0.],\n",
       "        [0., 0., 0., 0., 0.],\n",
       "        [0., 0., 0., 0., 0.],\n",
       "        [0., 0., 0., 0., 0.]])"
      ]
     },
     "execution_count": 25,
     "metadata": {},
     "output_type": "execute_result"
    }
   ],
   "source": [
    "corr2d(X.t(), K)"
   ]
  },
  {
   "cell_type": "markdown",
   "id": "04dd30a9",
   "metadata": {},
   "source": [
    "我们发现卷积核K只能够检测出垂直边缘，水平边缘无法检测到。"
   ]
  },
  {
   "cell_type": "markdown",
   "id": "8bbbf81e",
   "metadata": {},
   "source": [
    "## 学习卷积核"
   ]
  },
  {
   "cell_type": "markdown",
   "id": "5bde272d",
   "metadata": {},
   "source": [
    "如果我们只需寻找黑白边缘，那么以上$[1, -1]$的边缘检测器足以。然而，当有了更复杂数值的卷积核，或者连续的卷积层时，我们不可能手动设计滤波器。那么我们是否可以学习由X生成Y的卷积核呢?<br>\n",
    "现在让我们看看是否可以通过仅查看“输入-输出”对来学习由X生成Y的卷积核。我们先构造⼀个卷积层，并将其卷积核初始化为随机张量。接下来，在每次迭代中，我们⽐较Y与卷积层输出的平⽅误差，然后计算梯度来更新卷积核。为了简单起⻅，我们在此使⽤内置的⼆维卷积层，并忽略偏置。"
   ]
  },
  {
   "cell_type": "code",
   "execution_count": 33,
   "id": "5e66ea7c",
   "metadata": {
    "ExecuteTime": {
     "end_time": "2022-08-10T11:44:58.091311Z",
     "start_time": "2022-08-10T11:44:58.072648Z"
    }
   },
   "outputs": [
    {
     "name": "stdout",
     "output_type": "stream",
     "text": [
      "epoch2, loss1.894\n",
      "epoch4, loss0.345\n",
      "epoch6, loss0.069\n",
      "epoch8, loss0.016\n",
      "epoch10, loss0.005\n"
     ]
    }
   ],
   "source": [
    "# 构造一个二维卷积层，它具有1个输出通道和形状为(1, 2)的卷积核\n",
    "conv2d = nn.Conv2d(1, 1, kernel_size=(1, 2), bias=False)\n",
    "\n",
    "# 这个二维卷积层使用四维输入和输出格式(批量大小，通道，高度，宽度)\n",
    "# 其中批量大小和通道数都为1\n",
    "X = X.reshape((1, 1, 6, 8))\n",
    "Y = Y.reshape((1, 1, 6, 7))\n",
    "lr = 3e-2  # 学习率\n",
    "\n",
    "for i in range(10):\n",
    "    Y_hat = conv2d(X)\n",
    "    l = (Y_hat - Y) ** 2\n",
    "    conv2d.zero_grad()\n",
    "    l.sum().backward()\n",
    "    # 迭代卷积核\n",
    "    conv2d.weight.data[:] -= lr * conv2d.weight.grad\n",
    "    if (i + 1) % 2 == 0:\n",
    "        print(f'epoch{i+1}, loss{l.sum():.3f}')"
   ]
  },
  {
   "cell_type": "markdown",
   "id": "bd89db65",
   "metadata": {},
   "source": [
    "在迭代10此后，误差已经足够低了。看看训练效果"
   ]
  },
  {
   "cell_type": "code",
   "execution_count": 34,
   "id": "0c4d54ed",
   "metadata": {
    "ExecuteTime": {
     "end_time": "2022-08-10T11:44:59.166853Z",
     "start_time": "2022-08-10T11:44:59.152393Z"
    }
   },
   "outputs": [
    {
     "data": {
      "text/plain": [
       "tensor([[ 0.9989, -0.9873]])"
      ]
     },
     "execution_count": 34,
     "metadata": {},
     "output_type": "execute_result"
    }
   ],
   "source": [
    "conv2d.weight.data.reshape((1, 2))"
   ]
  },
  {
   "cell_type": "markdown",
   "id": "5c3266d3",
   "metadata": {},
   "source": [
    "发现得到的结果十分接近前面的卷积核K"
   ]
  },
  {
   "cell_type": "markdown",
   "id": "b53694b3",
   "metadata": {},
   "source": [
    "## 填充和步幅"
   ]
  },
  {
   "cell_type": "markdown",
   "id": "09279b05",
   "metadata": {},
   "source": [
    "假设以下情景：有时，在应⽤了连续的卷积之后，我们最终得到的输出远⼩于输⼊⼤⼩。这是由于卷积核的宽度和⾼度通常⼤于1所导致的。⽐如，⼀个240×240像素的图像，经过10层5×5的卷积后，将减少到200×200像素。如此⼀来，原始图像的边界丢失了许多有⽤信息。⽽填充是解决此问题最有效的⽅法。有时，我们可能希望⼤幅降低图像的宽度和⾼度。例如，如果我们发现原始的输⼊分辨率⼗分冗余。步幅则可以在这类情况下提供帮助。"
   ]
  },
  {
   "cell_type": "markdown",
   "id": "ccc90d8b",
   "metadata": {},
   "source": [
    "## 填充（padding）"
   ]
  },
  {
   "cell_type": "markdown",
   "id": "742dcb68",
   "metadata": {},
   "source": [
    "在应⽤多层卷积时，我们常常丢失边缘像素。由于我们通常使⽤⼩卷积核，因此对于任何单个卷积，我们可能只会丢失⼏个像素。但随着我们应⽤许多连续卷积层，累积丢失的像素数就多了。\n",
    "\n",
    "解决这个问题的⽅法为填充（padding）：在输⼊图像的边界填充元素（通常填充元素是0）。"
   ]
  },
  {
   "cell_type": "markdown",
   "id": "fcac4ee8",
   "metadata": {},
   "source": [
    "我们将3×3输⼊填充到5×5，那么它的输出就增加为4×4。阴影部分是第⼀个输出元素以及⽤于输出计算的输⼊和核张量元素：0×0+0×1+0×2+0×3=0。"
   ]
  },
  {
   "attachments": {
    "image.png": {
     "image/png": "[encoded data removed]"
    }
   },
   "cell_type": "markdown",
   "id": "ab5ea259",
   "metadata": {},
   "source": [
    "![image.png](attachment:image.png)"
   ]
  },
  {
   "cell_type": "markdown",
   "id": "9e74b839",
   "metadata": {},
   "source": [
    "通常，如果我们添加$p_h$行填充（大约一半在顶部，一半在底部）和$p_w$列填充（左侧大约一半，右侧一半），则输出形状将为\n",
    "$$\n",
    "(n_h-k_h+p_h+1)\\times(n_w-k_w+p_w+1)\n",
    "$$\n",
    "这意味着输出的高度和宽度将分别增加$p_h$和$p_w$"
   ]
  },
  {
   "cell_type": "markdown",
   "id": "af4f7756",
   "metadata": {},
   "source": [
    "在许多情况下，我们需要设置$p_h=k_h-1$和$p_w=k_w-1$，使输入和输出具有相同的高度和宽度。这样可以在构建网络时更容易地预测每个图层的输出形状。假设$k_h$是奇数，我们将在高度的两侧填充$p_h/2$行。如果$k_h$是偶数，则一种可能性是在输入顶部填充$(p_h+1)/2$行，在底部填充$(p_h-1)/2$行。同理，我们填充宽度的两侧。\n",
    "\n",
    "卷积神经⽹络中卷积核的⾼度和宽度通常为奇数，例如1、3、5或7。选择奇数的好处是，保持空间维度的同时，我们可以在顶部和底部填充相同数量的⾏，在左侧和右侧填充相同数量的列。"
   ]
  },
  {
   "cell_type": "code",
   "execution_count": 35,
   "id": "227d9c62",
   "metadata": {
    "ExecuteTime": {
     "end_time": "2022-08-10T12:04:21.782023Z",
     "start_time": "2022-08-10T12:04:21.773056Z"
    }
   },
   "outputs": [],
   "source": [
    "import torch\n",
    "from torch import nn\n",
    "\n",
    "# 为了方便起见，我们定义了一个计算卷积层的函数\n",
    "# 此函数初始化卷积层权重，并对输入和输出提高和缩减相应的维数\n",
    "def comp_conv2d(conv2d, X):\n",
    "    # 这里的(1,1)表示批量大小和通道数都是1\n",
    "    X = X.reshape((1, 1) + X.shape)\n",
    "    Y = conv2d(X)\n",
    "    # 省略前两个维度：批量大小和通道\n",
    "    return Y.reshape(Y.shape[2:])"
   ]
  },
  {
   "cell_type": "code",
   "execution_count": 36,
   "id": "b47b5c06",
   "metadata": {
    "ExecuteTime": {
     "end_time": "2022-08-10T12:05:34.664037Z",
     "start_time": "2022-08-10T12:05:34.649077Z"
    }
   },
   "outputs": [
    {
     "data": {
      "text/plain": [
       "torch.Size([8, 8])"
      ]
     },
     "execution_count": 36,
     "metadata": {},
     "output_type": "execute_result"
    }
   ],
   "source": [
    "# 请注意，这⾥每边都填充了1⾏或1列，因此总共添加了2⾏或2列\n",
    "conv2d = nn.Conv2d(1, 1, kernel_size=3, padding=1)\n",
    "X = torch.rand(size=(8, 8))\n",
    "comp_conv2d(conv2d, X).shape"
   ]
  },
  {
   "cell_type": "markdown",
   "id": "b3a6a716",
   "metadata": {},
   "source": [
    "发现当卷积核大小设置为(3, 3)时，padding设置为1时，能够保留原始的输入图像维度"
   ]
  },
  {
   "cell_type": "markdown",
   "id": "441aee43",
   "metadata": {},
   "source": [
    "当卷积核高度和宽度不同时，我们要想保留原始图像的维度，padding在行和列的填充上也应该不一样。例如，我们使用高度为5，宽度为3的卷积核，高度和宽度两边的填充分别为2和1."
   ]
  },
  {
   "cell_type": "markdown",
   "id": "5ff7c004",
   "metadata": {},
   "source": [
    "计算方法$\\frac{5-1}{2}=2$, $\\frac{3-1}{2}=1$"
   ]
  },
  {
   "cell_type": "code",
   "execution_count": 39,
   "id": "923ca97e",
   "metadata": {
    "ExecuteTime": {
     "end_time": "2022-08-10T12:10:17.154024Z",
     "start_time": "2022-08-10T12:10:17.137922Z"
    }
   },
   "outputs": [
    {
     "data": {
      "text/plain": [
       "torch.Size([8, 8])"
      ]
     },
     "execution_count": 39,
     "metadata": {},
     "output_type": "execute_result"
    }
   ],
   "source": [
    "conv2d = nn.Conv2d(1, 1, kernel_size=(5, 3), padding=(2, 1))\n",
    "comp_conv2d(conv2d, X).shape"
   ]
  },
  {
   "cell_type": "markdown",
   "id": "422457f1",
   "metadata": {},
   "source": [
    "## 步幅"
   ]
  },
  {
   "cell_type": "markdown",
   "id": "250fd1ef",
   "metadata": {},
   "source": [
    "在计算互相关时，卷积窗⼝从输⼊张量的左上⻆开始，向下、向右滑动。在前⾯的例⼦中，我们默认每次滑动⼀个元素。但是，有时候为了⾼效计算或是缩减采样次数，卷积窗⼝可以跳过中间位置，每次滑动多个元素。\n",
    "\n",
    "我们将每次滑动元素的数量称为**步幅（stride）**。"
   ]
  },
  {
   "cell_type": "markdown",
   "id": "7f8969c4",
   "metadata": {},
   "source": [
    "下图是垂直步幅为3，⽔平步幅为2的⼆维互相关运算。"
   ]
  },
  {
   "attachments": {
    "image.png": {
     "image/png": "[encoded data removed]"
    }
   },
   "cell_type": "markdown",
   "id": "aaa22d86",
   "metadata": {},
   "source": [
    "![image.png](attachment:image.png)"
   ]
  },
  {
   "cell_type": "markdown",
   "id": "0e7b5b3d",
   "metadata": {},
   "source": [
    "通常，当垂直步幅为$s_h$、⽔平步幅为$s_w$时，输出形状为\n",
    "\n",
    "$$\n",
    "\\left \\lfloor(n_h-k_h+p_h+s_h)/s_h\\right \\rfloor\\times\\left\\lfloor(n_w-k_w+p_w+s_w)/s_w\\right\\rfloor\n",
    "$$\n",
    "\n",
    "如果我们设置了$p_h=k_h-1$和$p_w=k_w-1$，则输出形状将简化为\n",
    "\n",
    "$$\n",
    "\\left \\lfloor(n_h+s_h-1)/s_h\\right \\rfloor\\times\\left\\lfloor(n_w+s_w-1)/s_w\\right\\rfloor\n",
    "$$\n",
    "\n",
    "更进一步，如果输入的高度和宽度可以被垂直和水平步幅整除，则输出形状将为\n",
    "\n",
    "$$\n",
    "(n_h/s_h)\\times(n_w/s_w)\n",
    "$$"
   ]
  },
  {
   "cell_type": "markdown",
   "id": "a0af5029",
   "metadata": {},
   "source": [
    "下面，我们将高度和宽度的步幅设置为2，从而将输入的高度和宽度减半"
   ]
  },
  {
   "cell_type": "code",
   "execution_count": 40,
   "id": "b4a86828",
   "metadata": {
    "ExecuteTime": {
     "end_time": "2022-08-10T12:24:54.775018Z",
     "start_time": "2022-08-10T12:24:54.755946Z"
    }
   },
   "outputs": [
    {
     "data": {
      "text/plain": [
       "torch.Size([4, 4])"
      ]
     },
     "execution_count": 40,
     "metadata": {},
     "output_type": "execute_result"
    }
   ],
   "source": [
    "conv2d = nn.Conv2d(1, 1, kernel_size=3, padding=1, stride=2)\n",
    "comp_conv2d(conv2d, X).shape"
   ]
  },
  {
   "cell_type": "markdown",
   "id": "f6de080a",
   "metadata": {},
   "source": [
    "接下来看一个稍微复杂一点的例子"
   ]
  },
  {
   "cell_type": "code",
   "execution_count": 41,
   "id": "ba045a33",
   "metadata": {
    "ExecuteTime": {
     "end_time": "2022-08-10T12:26:55.885054Z",
     "start_time": "2022-08-10T12:26:55.874126Z"
    }
   },
   "outputs": [
    {
     "data": {
      "text/plain": [
       "torch.Size([2, 2])"
      ]
     },
     "execution_count": 41,
     "metadata": {},
     "output_type": "execute_result"
    }
   ],
   "source": [
    "conv2d = nn.Conv2d(1, 1, kernel_size=(3, 5), padding=(0, 1), stride=(3, 4))\n",
    "comp_conv2d(conv2d, X).shape"
   ]
  },
  {
   "cell_type": "markdown",
   "id": "dfb8c04e",
   "metadata": {},
   "source": [
    "说明:\n",
    "- 当输⼊高度和宽度两侧的填充数量分别为$p_h$和$p_w$时，我们称之为填充$(p_h, p_w)$。当$p_h=p_w=p$时，填充是p。\n",
    "- 当高度和宽度上步幅分别为$s_h$和$s_w$时，我们称之为步幅(s_h, s_w)。当时的步幅为$s_h=s_w=s$时，步幅为s。\n",
    "\n",
    "默认情况下，填充为0，步幅为1。在实践中，我们很少使用不一致的步幅或填充，也就是说，我们通常有$p_h=p_w$和$s_h=s_w$。"
   ]
  },
  {
   "cell_type": "markdown",
   "id": "83cf3d69",
   "metadata": {},
   "source": [
    "# 多输入多输出通道"
   ]
  },
  {
   "cell_type": "markdown",
   "id": "c867c87b",
   "metadata": {},
   "source": [
    "## 多输入通道"
   ]
  },
  {
   "cell_type": "markdown",
   "id": "63ec15c9",
   "metadata": {},
   "source": [
    "当输⼊包含多个通道时，需要构造⼀个与输⼊数据具有相同输⼊通道数的卷积核，以便与输⼊数据进⾏互相关运算。"
   ]
  },
  {
   "attachments": {
    "image.png": {
     "image/png": "[encoded data removed]"
    }
   },
   "cell_type": "markdown",
   "id": "7d36490a",
   "metadata": {},
   "source": [
    "![image.png](attachment:image.png)"
   ]
  },
  {
   "cell_type": "code",
   "execution_count": 42,
   "id": "96aba123",
   "metadata": {
    "ExecuteTime": {
     "end_time": "2022-08-10T12:34:34.794341Z",
     "start_time": "2022-08-10T12:34:34.777615Z"
    }
   },
   "outputs": [],
   "source": [
    "def corr2d_multi_in(X, K):\n",
    "    # 先遍历“X”和“K”的第0个维度（通道维度），再把它们加在一起\n",
    "    return sum(d2l.corr2d(x,k) for x, k in zip(X, K))"
   ]
  },
  {
   "cell_type": "code",
   "execution_count": 43,
   "id": "a575be94",
   "metadata": {
    "ExecuteTime": {
     "end_time": "2022-08-10T12:34:57.054997Z",
     "start_time": "2022-08-10T12:34:57.041309Z"
    }
   },
   "outputs": [
    {
     "data": {
      "text/plain": [
       "tensor([[ 56.,  72.],\n",
       "        [104., 120.]])"
      ]
     },
     "execution_count": 43,
     "metadata": {},
     "output_type": "execute_result"
    }
   ],
   "source": [
    "X = torch.tensor([[[0.0, 1.0, 2.0], [3.0, 4.0, 5.0], [6.0, 7.0, 8.0]],\n",
    "                  [[1.0, 2.0, 3.0], [4.0, 5.0, 6.0], [7.0, 8.0, 9.0]]])\n",
    "K = torch.tensor([[[0.0, 1.0], [2.0, 3.0]], \n",
    "                  [[1.0, 2.0], [3.0, 4.0]]])\n",
    "corr2d_multi_in(X, K)"
   ]
  },
  {
   "cell_type": "markdown",
   "id": "5fbd6415",
   "metadata": {},
   "source": [
    "## 多输出通道"
   ]
  },
  {
   "cell_type": "markdown",
   "id": "5f1ca3e1",
   "metadata": {},
   "source": [
    "到⽬前为⽌，不论有多少输⼊通道，我们还只有⼀个输出通道。\n",
    "在最流⾏的神经⽹络架构中，随着神经⽹络层数的加深，我们常会增加输出通道的维数，通过减少空间分辨率以获得更⼤的通道深度。直观地说，我们可以将每个通道看作是对不同特征的响应。⽽现实可能更为复杂⼀些，因为每个通道不是独⽴学习的，⽽是为了共同使⽤⽽优化的。\n",
    "\n",
    "因此，多输出通道并不仅是学习多个单通道的检测器。"
   ]
  },
  {
   "cell_type": "code",
   "execution_count": 44,
   "id": "fef8bd4d",
   "metadata": {
    "ExecuteTime": {
     "end_time": "2022-08-10T12:38:00.233385Z",
     "start_time": "2022-08-10T12:38:00.225192Z"
    }
   },
   "outputs": [],
   "source": [
    "def corr2d_multi_in_out(X, K):\n",
    "    # 迭代“K”的第0个维度，每次都对输入“X”执行互相关运算。\n",
    "    # 最后将所有结果都叠加在一起\n",
    "    return torch.stack([corr2d_multi_in(X, k) for k in K], 0)"
   ]
  },
  {
   "cell_type": "markdown",
   "id": "ed15161a",
   "metadata": {},
   "source": [
    "通过将核张量K与K+1（K中的每个元素加1）和K+2连接起来，构造一个具有3个输出通道的卷积核。"
   ]
  },
  {
   "cell_type": "code",
   "execution_count": 45,
   "id": "33c2df2e",
   "metadata": {
    "ExecuteTime": {
     "end_time": "2022-08-10T12:39:14.287907Z",
     "start_time": "2022-08-10T12:39:14.264534Z"
    }
   },
   "outputs": [
    {
     "data": {
      "text/plain": [
       "torch.Size([3, 2, 2, 2])"
      ]
     },
     "execution_count": 45,
     "metadata": {},
     "output_type": "execute_result"
    }
   ],
   "source": [
    "K = torch.stack((K, K+1, K+2), 0)\n",
    "K.shape"
   ]
  },
  {
   "cell_type": "markdown",
   "id": "a627b78c",
   "metadata": {},
   "source": [
    "对输⼊张量X与卷积核张量K执⾏互相关运算。"
   ]
  },
  {
   "cell_type": "code",
   "execution_count": 46,
   "id": "83ca0d99",
   "metadata": {
    "ExecuteTime": {
     "end_time": "2022-08-10T12:39:35.985273Z",
     "start_time": "2022-08-10T12:39:35.969708Z"
    }
   },
   "outputs": [
    {
     "data": {
      "text/plain": [
       "tensor([[[ 56.,  72.],\n",
       "         [104., 120.]],\n",
       "\n",
       "        [[ 76., 100.],\n",
       "         [148., 172.]],\n",
       "\n",
       "        [[ 96., 128.],\n",
       "         [192., 224.]]])"
      ]
     },
     "execution_count": 46,
     "metadata": {},
     "output_type": "execute_result"
    }
   ],
   "source": [
    "corr2d_multi_in_out(X, K)"
   ]
  },
  {
   "cell_type": "markdown",
   "id": "1ffbee9e",
   "metadata": {},
   "source": [
    "可以看到第一个通道与之前的结果一致。"
   ]
  }
 ],
 "metadata": {
  "kernelspec": {
   "display_name": "Python 3 (ipykernel)",
   "language": "python",
   "name": "python3"
  },
  "language_info": {
   "codemirror_mode": {
    "name": "ipython",
    "version": 3
   },
   "file_extension": ".py",
   "mimetype": "text/x-python",
   "name": "python",
   "nbconvert_exporter": "python",
   "pygments_lexer": "ipython3",
   "version": "3.8.11"
  },
  "toc": {
   "base_numbering": 1,
   "nav_menu": {},
   "number_sections": true,
   "sideBar": true,
   "skip_h1_title": false,
   "title_cell": "Table of Contents",
   "title_sidebar": "Contents",
   "toc_cell": false,
   "toc_position": {},
   "toc_section_display": true,
   "toc_window_display": true
  },
  "varInspector": {
   "cols": {
    "lenName": 16,
    "lenType": 16,
    "lenVar": 40
   },
   "kernels_config": {
    "python": {
     "delete_cmd_postfix": "",
     "delete_cmd_prefix": "del ",
     "library": "var_list.py",
     "varRefreshCmd": "print(var_dic_list())"
    },
    "r": {
     "delete_cmd_postfix": ") ",
     "delete_cmd_prefix": "rm(",
     "library": "var_list.r",
     "varRefreshCmd": "cat(var_dic_list()) "
    }
   },
   "types_to_exclude": [
    "module",
    "function",
    "builtin_function_or_method",
    "instance",
    "_Feature"
   ],
   "window_display": false
  }
 },
 "nbformat": 4,
 "nbformat_minor": 5
}
